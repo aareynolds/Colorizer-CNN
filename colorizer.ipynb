{
 "cells": [
  {
   "cell_type": "code",
   "execution_count": null,
   "metadata": {},
   "outputs": [],
   "source": [
    "# Numpy\n",
    "import numpy as np\n",
    "\n",
    "# MatLab Plot\n",
    "import matplotlib.pyplot as plt\n",
    "\n",
    "# Torch\n",
    "import torch\n",
    "import torchvision\n",
    "from torchvision import datasets, models, transforms\n",
    "import torch.nn as nn\n",
    "\n",
    "# Color\n",
    "from skimage import color\n",
    "\n",
    "# Import external notebooks\n",
    "import import_ipynb\n",
    "import lab_dataloader\n"
   ]
  },
  {
   "cell_type": "code",
   "execution_count": null,
   "metadata": {
    "tags": []
   },
   "outputs": [],
   "source": [
    "\n",
    "# Dataloader for the training set\n",
    "train_transforms = transforms.Compose([transforms.Resize(256), \\\n",
    "    transforms.CenterCrop(256), transforms.ToTensor()])\n",
    "train_dataset = lab_dataloader.LABImageFolder(\"PetImages/\", transform=train_transforms)\n",
    "train_dataloader = torch.utils.data.DataLoader(train_dataset, batch_size=32, shuffle=True)\n",
    "\n",
    "# Dataloader for the validation set (Currently the same as the training set)\n",
    "validate_transforms = transforms.Compose([transforms.Resize(256), \\\n",
    "    transforms.CenterCrop(256), transforms.ToTensor()])\n",
    "validate_dataset = lab_dataloader.LABImageFolder(\"PetImages/\", transform=validate_transforms)\n",
    "validate_dataloader = torch.utils.data.DataLoader(validate_dataset, batch_size=32, shuffle=True)\n",
    "\n",
    "# Loads each batch from the dataset and shows the first image from each\n",
    "for images_l, images_ab, label in train_dataloader:\n",
    "    plt.figure()\n",
    "    plt.imshow(color.lab2rgb(torch.cat((images_l[0], images_ab[0]), 2)))\n",
    "    plt.show()"
   ]
  },
  {
   "cell_type": "code",
   "execution_count": null,
   "metadata": {},
   "outputs": [],
   "source": []
  }
 ],
 "metadata": {
  "kernelspec": {
   "name": "python3",
   "display_name": "Python 3.7.9 64-bit ('notebook': conda)",
   "metadata": {
    "interpreter": {
     "hash": "03e0f1533b8495ad4b8ab87acb6685d0732eac46dd3c3e57759501f77946133a"
    }
   }
  },
  "language_info": {
   "name": "",
   "version": "3.7.9-final"
  }
 },
 "nbformat": 4,
 "nbformat_minor": 4
}