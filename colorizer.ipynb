{
 "cells": [
  {
   "cell_type": "code",
   "execution_count": 1,
   "metadata": {},
   "outputs": [],
   "source": [
    "# Numpy\n",
    "import numpy as np\n",
    "\n",
    "# MatLab Plot\n",
    "import matplotlib.pyplot as plt\n",
    "\n",
    "# Torch\n",
    "import torch\n",
    "import torch.cuda\n",
    "import torch.utils.data\n",
    "\n",
    "import torchvision\n",
    "from torchvision import datasets, models, transforms\n",
    "import torch.nn as nn\n",
    "\n",
    "from torchsummary import summary\n",
    "\n",
    "# Color\n",
    "from skimage import color\n",
    "\n",
    "# Colorizer Modules\n",
    "import lab_dataloader\n",
    "import architecture\n"
   ]
  },
  {
   "cell_type": "code",
   "execution_count": 2,
   "metadata": {
    "tags": []
   },
   "outputs": [],
   "source": [
    "\n",
    "# Dataloader for the training set\n",
    "train_transforms = transforms.Compose([transforms.Resize(256),\n",
    "    transforms.CenterCrop(256), transforms.ToTensor()])\n",
    "train_dataset = lab_dataloader.LABImageFolder(\"PetImages/\", transform=train_transforms)\n",
    "train_dataloader = torch.utils.data.DataLoader(train_dataset, batch_size=32, shuffle=True)\n",
    "\n",
    "# Dataloader for the validation set (Currently the same as the training set)\n",
    "validate_transforms = transforms.Compose([transforms.Resize(256),\n",
    "    transforms.CenterCrop(256), transforms.ToTensor()])\n",
    "validate_dataset = lab_dataloader.LABImageFolder(\"PetImages/\", transform=validate_transforms)\n",
    "validate_dataloader = torch.utils.data.DataLoader(validate_dataset, batch_size=32, shuffle=True)\n"
   ]
  },
  {
   "cell_type": "code",
   "execution_count": 3,
   "metadata": {},
   "outputs": [
    {
     "output_type": "stream",
     "name": "stdout",
     "text": [
      "==========================================================================================\nLayer (type:depth-idx)                   Output Shape              Param #\n==========================================================================================\n├─Sequential: 1-1                        [-1, 64, 128, 128]        --\n|    └─Conv2d: 2-1                       [-1, 64, 256, 256]        640\n|    └─ReLU: 2-2                         [-1, 64, 256, 256]        --\n|    └─Conv2d: 2-3                       [-1, 64, 128, 128]        36,928\n|    └─ReLU: 2-4                         [-1, 64, 128, 128]        --\n|    └─BatchNorm2d: 2-5                  [-1, 64, 128, 128]        128\n├─Sequential: 1-2                        [-1, 128, 64, 64]         --\n|    └─Conv2d: 2-6                       [-1, 128, 128, 128]       73,856\n|    └─ReLU: 2-7                         [-1, 128, 128, 128]       --\n|    └─Conv2d: 2-8                       [-1, 128, 64, 64]         147,584\n|    └─ReLU: 2-9                         [-1, 128, 64, 64]         --\n|    └─BatchNorm2d: 2-10                 [-1, 128, 64, 64]         256\n├─Sequential: 1-3                        [-1, 256, 32, 32]         --\n|    └─Conv2d: 2-11                      [-1, 256, 64, 64]         295,168\n|    └─ReLU: 2-12                        [-1, 256, 64, 64]         --\n|    └─Conv2d: 2-13                      [-1, 256, 32, 32]         590,080\n|    └─ReLU: 2-14                        [-1, 256, 32, 32]         --\n|    └─BatchNorm2d: 2-15                 [-1, 256, 32, 32]         512\n├─Sequential: 1-4                        [-1, 512, 32, 32]         --\n|    └─Conv2d: 2-16                      [-1, 512, 32, 32]         1,180,160\n|    └─ReLU: 2-17                        [-1, 512, 32, 32]         --\n|    └─Conv2d: 2-18                      [-1, 512, 32, 32]         2,359,808\n|    └─ReLU: 2-19                        [-1, 512, 32, 32]         --\n|    └─BatchNorm2d: 2-20                 [-1, 512, 32, 32]         1,024\n├─Sequential: 1-5                        [-1, 512, 32, 32]         --\n|    └─Conv2d: 2-21                      [-1, 512, 32, 32]         2,359,808\n|    └─ReLU: 2-22                        [-1, 512, 32, 32]         --\n|    └─Conv2d: 2-23                      [-1, 512, 32, 32]         2,359,808\n|    └─ReLU: 2-24                        [-1, 512, 32, 32]         --\n|    └─BatchNorm2d: 2-25                 [-1, 512, 32, 32]         1,024\n├─Sequential: 1-6                        [-1, 512, 32, 32]         --\n|    └─Conv2d: 2-26                      [-1, 512, 32, 32]         2,359,808\n|    └─ReLU: 2-27                        [-1, 512, 32, 32]         --\n|    └─Conv2d: 2-28                      [-1, 512, 32, 32]         2,359,808\n|    └─ReLU: 2-29                        [-1, 512, 32, 32]         --\n|    └─BatchNorm2d: 2-30                 [-1, 512, 32, 32]         1,024\n├─Sequential: 1-7                        [-1, 512, 32, 32]         --\n|    └─Conv2d: 2-31                      [-1, 512, 32, 32]         2,359,808\n|    └─ReLU: 2-32                        [-1, 512, 32, 32]         --\n|    └─Conv2d: 2-33                      [-1, 512, 32, 32]         2,359,808\n|    └─ReLU: 2-34                        [-1, 512, 32, 32]         --\n|    └─BatchNorm2d: 2-35                 [-1, 512, 32, 32]         1,024\n├─Sequential: 1-8                        [-1, 256, 64, 64]         --\n|    └─ConvTranspose2d: 2-36             [-1, 256, 64, 64]         2,097,408\n|    └─ReLU: 2-37                        [-1, 256, 64, 64]         --\n|    └─Conv2d: 2-38                      [-1, 256, 64, 64]         590,080\n|    └─ReLU: 2-39                        [-1, 256, 64, 64]         --\n|    └─BatchNorm2d: 2-40                 [-1, 256, 64, 64]         512\n├─Sequential: 1-9                        [-1, 2, 64, 64]           --\n|    └─Conv2d: 2-41                      [-1, 313, 64, 64]         80,441\n|    └─Conv2d: 2-42                      [-1, 2, 64, 64]           626\n├─Sequential: 1-10                       [-1, 2, 64, 64]           --\n|    └─Softmax: 2-43                     [-1, 2, 64, 64]           --\n├─Sequential: 1-11                       [-1, 2, 256, 256]         --\n|    └─Upsample: 2-44                    [-1, 2, 256, 256]         --\n==========================================================================================\nTotal params: 21,617,131\nTrainable params: 21,617,131\nNon-trainable params: 0\nTotal mult-adds (G): 33.74\n==========================================================================================\nInput size (MB): 0.25\nForward/backward pass size (MB): 165.84\nParams size (MB): 82.46\nEstimated Total Size (MB): 248.56\n==========================================================================================\n"
     ]
    },
    {
     "output_type": "execute_result",
     "data": {
      "text/plain": [
       "==========================================================================================\n",
       "Layer (type:depth-idx)                   Output Shape              Param #\n",
       "==========================================================================================\n",
       "├─Sequential: 1-1                        [-1, 64, 128, 128]        --\n",
       "|    └─Conv2d: 2-1                       [-1, 64, 256, 256]        640\n",
       "|    └─ReLU: 2-2                         [-1, 64, 256, 256]        --\n",
       "|    └─Conv2d: 2-3                       [-1, 64, 128, 128]        36,928\n",
       "|    └─ReLU: 2-4                         [-1, 64, 128, 128]        --\n",
       "|    └─BatchNorm2d: 2-5                  [-1, 64, 128, 128]        128\n",
       "├─Sequential: 1-2                        [-1, 128, 64, 64]         --\n",
       "|    └─Conv2d: 2-6                       [-1, 128, 128, 128]       73,856\n",
       "|    └─ReLU: 2-7                         [-1, 128, 128, 128]       --\n",
       "|    └─Conv2d: 2-8                       [-1, 128, 64, 64]         147,584\n",
       "|    └─ReLU: 2-9                         [-1, 128, 64, 64]         --\n",
       "|    └─BatchNorm2d: 2-10                 [-1, 128, 64, 64]         256\n",
       "├─Sequential: 1-3                        [-1, 256, 32, 32]         --\n",
       "|    └─Conv2d: 2-11                      [-1, 256, 64, 64]         295,168\n",
       "|    └─ReLU: 2-12                        [-1, 256, 64, 64]         --\n",
       "|    └─Conv2d: 2-13                      [-1, 256, 32, 32]         590,080\n",
       "|    └─ReLU: 2-14                        [-1, 256, 32, 32]         --\n",
       "|    └─BatchNorm2d: 2-15                 [-1, 256, 32, 32]         512\n",
       "├─Sequential: 1-4                        [-1, 512, 32, 32]         --\n",
       "|    └─Conv2d: 2-16                      [-1, 512, 32, 32]         1,180,160\n",
       "|    └─ReLU: 2-17                        [-1, 512, 32, 32]         --\n",
       "|    └─Conv2d: 2-18                      [-1, 512, 32, 32]         2,359,808\n",
       "|    └─ReLU: 2-19                        [-1, 512, 32, 32]         --\n",
       "|    └─BatchNorm2d: 2-20                 [-1, 512, 32, 32]         1,024\n",
       "├─Sequential: 1-5                        [-1, 512, 32, 32]         --\n",
       "|    └─Conv2d: 2-21                      [-1, 512, 32, 32]         2,359,808\n",
       "|    └─ReLU: 2-22                        [-1, 512, 32, 32]         --\n",
       "|    └─Conv2d: 2-23                      [-1, 512, 32, 32]         2,359,808\n",
       "|    └─ReLU: 2-24                        [-1, 512, 32, 32]         --\n",
       "|    └─BatchNorm2d: 2-25                 [-1, 512, 32, 32]         1,024\n",
       "├─Sequential: 1-6                        [-1, 512, 32, 32]         --\n",
       "|    └─Conv2d: 2-26                      [-1, 512, 32, 32]         2,359,808\n",
       "|    └─ReLU: 2-27                        [-1, 512, 32, 32]         --\n",
       "|    └─Conv2d: 2-28                      [-1, 512, 32, 32]         2,359,808\n",
       "|    └─ReLU: 2-29                        [-1, 512, 32, 32]         --\n",
       "|    └─BatchNorm2d: 2-30                 [-1, 512, 32, 32]         1,024\n",
       "├─Sequential: 1-7                        [-1, 512, 32, 32]         --\n",
       "|    └─Conv2d: 2-31                      [-1, 512, 32, 32]         2,359,808\n",
       "|    └─ReLU: 2-32                        [-1, 512, 32, 32]         --\n",
       "|    └─Conv2d: 2-33                      [-1, 512, 32, 32]         2,359,808\n",
       "|    └─ReLU: 2-34                        [-1, 512, 32, 32]         --\n",
       "|    └─BatchNorm2d: 2-35                 [-1, 512, 32, 32]         1,024\n",
       "├─Sequential: 1-8                        [-1, 256, 64, 64]         --\n",
       "|    └─ConvTranspose2d: 2-36             [-1, 256, 64, 64]         2,097,408\n",
       "|    └─ReLU: 2-37                        [-1, 256, 64, 64]         --\n",
       "|    └─Conv2d: 2-38                      [-1, 256, 64, 64]         590,080\n",
       "|    └─ReLU: 2-39                        [-1, 256, 64, 64]         --\n",
       "|    └─BatchNorm2d: 2-40                 [-1, 256, 64, 64]         512\n",
       "├─Sequential: 1-9                        [-1, 2, 64, 64]           --\n",
       "|    └─Conv2d: 2-41                      [-1, 313, 64, 64]         80,441\n",
       "|    └─Conv2d: 2-42                      [-1, 2, 64, 64]           626\n",
       "├─Sequential: 1-10                       [-1, 2, 64, 64]           --\n",
       "|    └─Softmax: 2-43                     [-1, 2, 64, 64]           --\n",
       "├─Sequential: 1-11                       [-1, 2, 256, 256]         --\n",
       "|    └─Upsample: 2-44                    [-1, 2, 256, 256]         --\n",
       "==========================================================================================\n",
       "Total params: 21,617,131\n",
       "Trainable params: 21,617,131\n",
       "Non-trainable params: 0\n",
       "Total mult-adds (G): 33.74\n",
       "==========================================================================================\n",
       "Input size (MB): 0.25\n",
       "Forward/backward pass size (MB): 165.84\n",
       "Params size (MB): 82.46\n",
       "Estimated Total Size (MB): 248.56\n",
       "=========================================================================================="
      ]
     },
     "metadata": {},
     "execution_count": 3
    }
   ],
   "source": [
    "\n",
    "color_model = architecture.ColorizerModel()\n",
    "summary(color_model, (1, 256, 256))"
   ]
  },
  {
   "cell_type": "code",
   "execution_count": null,
   "metadata": {},
   "outputs": [],
   "source": [
    "# Loads each batch from the dataset and shows the first image from each\n",
    "for images_l, images_ab, label in train_dataloader:\n",
    "    plt.figure()\n",
    "    plt.imshow(color.lab2rgb(torch.cat((images_l[0], images_ab[0]), 2)))\n",
    "    plt.show()"
   ]
  },
  {
   "cell_type": "code",
   "execution_count": null,
   "metadata": {},
   "outputs": [],
   "source": []
  }
 ],
 "metadata": {
  "kernelspec": {
   "name": "python3",
   "display_name": "Python 3",
   "language": "python"
  },
  "language_info": {
   "name": "",
   "version": "3.7.9-final"
  }
 },
 "nbformat": 4,
 "nbformat_minor": 4
}