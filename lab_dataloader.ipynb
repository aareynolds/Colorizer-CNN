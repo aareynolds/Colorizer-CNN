{
 "metadata": {
  "language_info": {
   "codemirror_mode": {
    "name": "ipython",
    "version": 3
   },
   "file_extension": ".py",
   "mimetype": "text/x-python",
   "name": "python",
   "nbconvert_exporter": "python",
   "pygments_lexer": "ipython3",
   "version": "3.7.9-final"
  },
  "orig_nbformat": 2,
  "kernelspec": {
   "name": "python3",
   "display_name": "Python 3",
   "language": "python"
  }
 },
 "nbformat": 4,
 "nbformat_minor": 2,
 "cells": [
  {
   "cell_type": "code",
   "execution_count": 7,
   "metadata": {},
   "outputs": [],
   "source": [
    "# Numpy\n",
    "import numpy as np\n",
    "\n",
    "# PyTorch\n",
    "import torch\n",
    "from torchvision import datasets, transforms\n",
    "\n",
    "# Color\n",
    "from skimage import color"
   ]
  },
  {
   "cell_type": "code",
   "execution_count": 8,
   "metadata": {},
   "outputs": [],
   "source": [
    "class LABImageFolder(datasets.ImageFolder):\n",
    "    \"\"\" LABImageFolder: Derives datasets.ImageFolder\n",
    "    Arguments: Path (string), Transforms (transforms.Compose)\n",
    "    \"\"\"\n",
    "\n",
    "    def __getitem__(self, index):\n",
    "        \"\"\" Loads RGB images from specified folder,\n",
    "            applies specified transforms,\n",
    "            converts RGB to L*A*B\n",
    "\n",
    "        Returns: luminance image (tensor of shape (H, W, 1)),\n",
    "            ab image (tensor of shape (H, W, 2)),\n",
    "            target class (int)\n",
    "        \"\"\"\n",
    "\n",
    "        # Get the path string and class of the image, then load it\n",
    "        path, target = self.imgs[index]\n",
    "        img_rgb = self.loader(path)\n",
    "\n",
    "        if self.transform is not None:\n",
    "            # Apply transformations\n",
    "            img_rgb = self.transform(img_rgb)\n",
    "\n",
    "            # Reorder shape from (3, H, W) -> (H, W, 3)\n",
    "            img_rgb = np.transpose(img_rgb, axes=[1,2,0])\n",
    "\n",
    "            # Convert from RGB to LAB\n",
    "            img_lab = color.rgb2lab(img_rgb)\n",
    "\n",
    "            # Extract ab and luminance channels\n",
    "            img_ab = img_lab[:, :, 1:3]\n",
    "            img_l = img_lab[:, :, 0]\n",
    "\n",
    "            # Convert channel data to tensors\n",
    "            img_ab = torch.from_numpy(img_ab)\n",
    "            img_l = torch.from_numpy(img_l).unsqueeze(2) # Shape (H, W) -> (H, W, 1)\n",
    "\n",
    "        return img_l, img_ab, target"
   ]
  },
  {
   "cell_type": "code",
   "execution_count": null,
   "metadata": {},
   "outputs": [],
   "source": []
  }
 ]
}